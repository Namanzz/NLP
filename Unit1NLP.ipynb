{
  "nbformat": 4,
  "nbformat_minor": 0,
  "metadata": {
    "colab": {
      "provenance": [],
      "include_colab_link": true
    },
    "kernelspec": {
      "name": "python3",
      "display_name": "Python 3"
    },
    "language_info": {
      "name": "python"
    }
  },
  "cells": [
    {
      "cell_type": "markdown",
      "metadata": {
        "id": "view-in-github",
        "colab_type": "text"
      },
      "source": [
        "<a href=\"https://colab.research.google.com/github/Namanzz/NLP/blob/main/Unit1NLP.ipynb\" target=\"_parent\"><img src=\"https://colab.research.google.com/assets/colab-badge.svg\" alt=\"Open In Colab\"/></a>"
      ]
    },
    {
      "cell_type": "code",
      "execution_count": null,
      "metadata": {
        "colab": {
          "base_uri": "https://localhost:8080/"
        },
        "id": "2i5FI0OTHwwn",
        "outputId": "512dae49-b5a2-421b-c872-f9f040dd89ad"
      },
      "outputs": [
        {
          "output_type": "stream",
          "name": "stdout",
          "text": [
            "Requirement already satisfied: nltk in /usr/local/lib/python3.10/dist-packages (3.8.1)\n",
            "Requirement already satisfied: click in /usr/local/lib/python3.10/dist-packages (from nltk) (8.1.7)\n",
            "Requirement already satisfied: joblib in /usr/local/lib/python3.10/dist-packages (from nltk) (1.4.2)\n",
            "Requirement already satisfied: regex>=2021.8.3 in /usr/local/lib/python3.10/dist-packages (from nltk) (2024.5.15)\n",
            "Requirement already satisfied: tqdm in /usr/local/lib/python3.10/dist-packages (from nltk) (4.66.5)\n"
          ]
        },
        {
          "output_type": "stream",
          "name": "stderr",
          "text": [
            "[nltk_data] Downloading package punkt to /root/nltk_data...\n",
            "[nltk_data]   Unzipping tokenizers/punkt.zip.\n"
          ]
        }
      ],
      "source": [
        "import nltk\n",
        "nltk.download('punkt')\n",
        "from nltk.tokenize import word_tokenize, sent_tokenize"
      ]
    },
    {
      "cell_type": "markdown",
      "source": [
        "<h1>Word Tokenization<h1>"
      ],
      "metadata": {
        "id": "j2QzOMUtQnUP"
      }
    },
    {
      "cell_type": "code",
      "source": [
        "text=\"I am learning NLP. I am happy today.\"\n",
        "word_token=word_tokenize(text)\n",
        "print(\"Word Tokenization: \",word_token)"
      ],
      "metadata": {
        "colab": {
          "base_uri": "https://localhost:8080/"
        },
        "id": "ZlqBZJJ8H_8M",
        "outputId": "cb64d7b2-9382-49cc-db77-0e8dc63686da"
      },
      "execution_count": null,
      "outputs": [
        {
          "output_type": "stream",
          "name": "stdout",
          "text": [
            "Word Tokenization:  ['I', 'am', 'learning', 'NLP', '.', 'I', 'am', 'happy', 'today', '.']\n"
          ]
        }
      ]
    },
    {
      "cell_type": "markdown",
      "source": [
        "<h1>Sentence Tokenization"
      ],
      "metadata": {
        "id": "UtsIokgSQt3D"
      }
    },
    {
      "cell_type": "code",
      "source": [
        "Sent_token=sent_tokenize(text)\n",
        "print(\"Sentence Tokenization: \",Sent_token)"
      ],
      "metadata": {
        "colab": {
          "base_uri": "https://localhost:8080/"
        },
        "id": "qAzTNi_XIkv0",
        "outputId": "d4636ad1-e3a4-46b7-c38e-0d01337fcd8a"
      },
      "execution_count": null,
      "outputs": [
        {
          "output_type": "stream",
          "name": "stdout",
          "text": [
            "Sentence Tokenization:  ['I am learning NLP.', 'I am happy today.']\n"
          ]
        }
      ]
    },
    {
      "cell_type": "markdown",
      "source": [
        "Find the fuction for character tokenization"
      ],
      "metadata": {
        "id": "N3Q_yPO5KO42"
      }
    },
    {
      "cell_type": "markdown",
      "source": [
        "<h1>Word Tokenization"
      ],
      "metadata": {
        "id": "IYJgdHPBk2ke"
      }
    },
    {
      "cell_type": "code",
      "source": [
        "text = \"Tokenizing text is fun!\"\n",
        "tokens=[]\n",
        "for i in text:\n",
        "    tokens.append(i)\n",
        "\n",
        "tokens"
      ],
      "metadata": {
        "id": "pc8kEartRfK4",
        "colab": {
          "base_uri": "https://localhost:8080/"
        },
        "outputId": "99c6f5d4-5556-4f09-959b-37db352f35ad"
      },
      "execution_count": null,
      "outputs": [
        {
          "output_type": "execute_result",
          "data": {
            "text/plain": [
              "['T',\n",
              " 'o',\n",
              " 'k',\n",
              " 'e',\n",
              " 'n',\n",
              " 'i',\n",
              " 'z',\n",
              " 'i',\n",
              " 'n',\n",
              " 'g',\n",
              " ' ',\n",
              " 't',\n",
              " 'e',\n",
              " 'x',\n",
              " 't',\n",
              " ' ',\n",
              " 'i',\n",
              " 's',\n",
              " ' ',\n",
              " 'f',\n",
              " 'u',\n",
              " 'n',\n",
              " '!']"
            ]
          },
          "metadata": {},
          "execution_count": 25
        }
      ]
    },
    {
      "cell_type": "markdown",
      "source": [
        "<h1>Noramlization"
      ],
      "metadata": {
        "id": "Y5VnoY19Qyvq"
      }
    },
    {
      "cell_type": "code",
      "source": [
        "normalized_text=text.lower()\n",
        "print(\"Normalization: \",normalized_text)"
      ],
      "metadata": {
        "colab": {
          "base_uri": "https://localhost:8080/"
        },
        "id": "ZAWqzaPaJHT2",
        "outputId": "1f07b8f7-7c13-4196-f7fa-fc8f200ece6a"
      },
      "execution_count": null,
      "outputs": [
        {
          "output_type": "stream",
          "name": "stdout",
          "text": [
            "Normalization:  i am learning nlp. i am happy today.\n"
          ]
        }
      ]
    },
    {
      "cell_type": "markdown",
      "source": [
        "<h1>Stemming</h1>"
      ],
      "metadata": {
        "id": "tR-Qi0r9QZKI"
      }
    },
    {
      "cell_type": "code",
      "source": [
        "from nltk.stem import PorterStemmer\n",
        "ps=PorterStemmer()\n",
        "words=['running','runs','ran','runner','looking','looked','loser','try','slowly','grey','clay']\n",
        "stemmed_words=[ps.stem(word) for word in words]\n",
        "print(\"Stemmed Words: \",stemmed_words)"
      ],
      "metadata": {
        "id": "GreLXbCXK9dT",
        "colab": {
          "base_uri": "https://localhost:8080/"
        },
        "outputId": "90bf1d55-cb13-4fd6-9b8c-629a748e5c14"
      },
      "execution_count": null,
      "outputs": [
        {
          "output_type": "stream",
          "name": "stdout",
          "text": [
            "Stemmed Words:  ['run', 'run', 'ran', 'runner', 'look', 'look', 'loser', 'tri', 'slowli', 'grey', 'clay']\n"
          ]
        }
      ]
    },
    {
      "cell_type": "markdown",
      "source": [
        "<h1>Lemmatization</h1>"
      ],
      "metadata": {
        "id": "FLMe-EEmQhAx"
      }
    },
    {
      "cell_type": "code",
      "source": [
        "from nltk.stem import WordNetLemmatizer\n",
        "lemmatizer=WordNetLemmatizer()\n",
        "import nltk\n",
        "nltk.download('wordnet')"
      ],
      "metadata": {
        "colab": {
          "base_uri": "https://localhost:8080/"
        },
        "id": "H7Ry77FqOCe9",
        "outputId": "7bb0b5b8-68cc-47bd-e4ba-cd06ea177445"
      },
      "execution_count": null,
      "outputs": [
        {
          "output_type": "stream",
          "name": "stderr",
          "text": [
            "[nltk_data] Downloading package wordnet to /root/nltk_data...\n"
          ]
        },
        {
          "output_type": "execute_result",
          "data": {
            "text/plain": [
              "True"
            ]
          },
          "metadata": {},
          "execution_count": 7
        }
      ]
    },
    {
      "cell_type": "code",
      "source": [
        "lemmatized_words=[lemmatizer.lemmatize(word,pos='v') for word in words]\n",
        "print(\"Lemmatized Words: \",lemmatized_words)"
      ],
      "metadata": {
        "colab": {
          "base_uri": "https://localhost:8080/"
        },
        "id": "rqIqJCMOOoe7",
        "outputId": "1a496457-ed45-424b-87c0-9f96dd5bddc8"
      },
      "execution_count": null,
      "outputs": [
        {
          "output_type": "stream",
          "name": "stdout",
          "text": [
            "Lemmatized Words:  ['run', 'run', 'run', 'runner', 'look', 'look', 'loser', 'try', 'slowly', 'grey', 'clay']\n"
          ]
        }
      ]
    },
    {
      "cell_type": "markdown",
      "source": [
        "<h1>Removing Punctuation"
      ],
      "metadata": {
        "id": "E7BrY8mVo0GN"
      }
    },
    {
      "cell_type": "code",
      "source": [
        "import string\n",
        "text=\"Hello, world! How's everything?\"\n",
        "normalized_text=text.translate(str.maketrans('', '', string.punctuation)).lower()\n",
        "print(\"Normalized Text: \",normalized_text)"
      ],
      "metadata": {
        "colab": {
          "base_uri": "https://localhost:8080/"
        },
        "id": "0d9ggSezQ_GO",
        "outputId": "fc3341e0-25a6-477a-a344-748ed8cc90f2"
      },
      "execution_count": null,
      "outputs": [
        {
          "output_type": "stream",
          "name": "stdout",
          "text": [
            "Normalized Text:  hello world hows everything\n"
          ]
        }
      ]
    },
    {
      "cell_type": "markdown",
      "source": [
        "<h1>Removing StopWords"
      ],
      "metadata": {
        "id": "NU0UPx6Drt8z"
      }
    },
    {
      "cell_type": "code",
      "source": [
        "from nltk.corpus import stopwords\n",
        "nltk.download('stopwords')\n",
        "stop_words=stopwords.words('english')\n",
        "text=\"This is an example sentence with some stop words.\"\n",
        "print(\"Stop Words: \",stop_words)\n",
        "words=word_tokenize(text.lower())\n",
        "filtered_words=[word for word in words if word not in stop_words]\n",
        "print(\"Filtered Words: \",filtered_words)"
      ],
      "metadata": {
        "id": "h1i9GZ7RpZMu",
        "colab": {
          "base_uri": "https://localhost:8080/"
        },
        "outputId": "cbeeb1e8-6f1b-48ed-bfed-f08bcf2ba950"
      },
      "execution_count": null,
      "outputs": [
        {
          "output_type": "stream",
          "name": "stdout",
          "text": [
            "Stop Words:  ['i', 'me', 'my', 'myself', 'we', 'our', 'ours', 'ourselves', 'you', \"you're\", \"you've\", \"you'll\", \"you'd\", 'your', 'yours', 'yourself', 'yourselves', 'he', 'him', 'his', 'himself', 'she', \"she's\", 'her', 'hers', 'herself', 'it', \"it's\", 'its', 'itself', 'they', 'them', 'their', 'theirs', 'themselves', 'what', 'which', 'who', 'whom', 'this', 'that', \"that'll\", 'these', 'those', 'am', 'is', 'are', 'was', 'were', 'be', 'been', 'being', 'have', 'has', 'had', 'having', 'do', 'does', 'did', 'doing', 'a', 'an', 'the', 'and', 'but', 'if', 'or', 'because', 'as', 'until', 'while', 'of', 'at', 'by', 'for', 'with', 'about', 'against', 'between', 'into', 'through', 'during', 'before', 'after', 'above', 'below', 'to', 'from', 'up', 'down', 'in', 'out', 'on', 'off', 'over', 'under', 'again', 'further', 'then', 'once', 'here', 'there', 'when', 'where', 'why', 'how', 'all', 'any', 'both', 'each', 'few', 'more', 'most', 'other', 'some', 'such', 'no', 'nor', 'not', 'only', 'own', 'same', 'so', 'than', 'too', 'very', 's', 't', 'can', 'will', 'just', 'don', \"don't\", 'should', \"should've\", 'now', 'd', 'll', 'm', 'o', 're', 've', 'y', 'ain', 'aren', \"aren't\", 'couldn', \"couldn't\", 'didn', \"didn't\", 'doesn', \"doesn't\", 'hadn', \"hadn't\", 'hasn', \"hasn't\", 'haven', \"haven't\", 'isn', \"isn't\", 'ma', 'mightn', \"mightn't\", 'mustn', \"mustn't\", 'needn', \"needn't\", 'shan', \"shan't\", 'shouldn', \"shouldn't\", 'wasn', \"wasn't\", 'weren', \"weren't\", 'won', \"won't\", 'wouldn', \"wouldn't\"]\n",
            "Filtered Words:  ['example', 'sentence', 'stop', 'words', '.']\n"
          ]
        },
        {
          "output_type": "stream",
          "name": "stderr",
          "text": [
            "[nltk_data] Downloading package stopwords to /root/nltk_data...\n",
            "[nltk_data]   Package stopwords is already up-to-date!\n"
          ]
        }
      ]
    },
    {
      "cell_type": "code",
      "source": [
        "!pip install contractions"
      ],
      "metadata": {
        "id": "JwONf-Avr9za",
        "colab": {
          "base_uri": "https://localhost:8080/"
        },
        "outputId": "51aa9dd7-fe69-4ef8-bd84-6a3c6a0b6aef"
      },
      "execution_count": 40,
      "outputs": [
        {
          "output_type": "stream",
          "name": "stdout",
          "text": [
            "Collecting contractions\n",
            "  Downloading contractions-0.1.73-py2.py3-none-any.whl.metadata (1.2 kB)\n",
            "Collecting textsearch>=0.0.21 (from contractions)\n",
            "  Downloading textsearch-0.0.24-py2.py3-none-any.whl.metadata (1.2 kB)\n",
            "Collecting anyascii (from textsearch>=0.0.21->contractions)\n",
            "  Downloading anyascii-0.3.2-py3-none-any.whl.metadata (1.5 kB)\n",
            "Collecting pyahocorasick (from textsearch>=0.0.21->contractions)\n",
            "  Downloading pyahocorasick-2.1.0-cp310-cp310-manylinux_2_5_x86_64.manylinux1_x86_64.manylinux_2_12_x86_64.manylinux2010_x86_64.whl.metadata (13 kB)\n",
            "Downloading contractions-0.1.73-py2.py3-none-any.whl (8.7 kB)\n",
            "Downloading textsearch-0.0.24-py2.py3-none-any.whl (7.6 kB)\n",
            "Downloading anyascii-0.3.2-py3-none-any.whl (289 kB)\n",
            "\u001b[2K   \u001b[90m━━━━━━━━━━━━━━━━━━━━━━━━━━━━━━━━━━━━━━━━\u001b[0m \u001b[32m289.9/289.9 kB\u001b[0m \u001b[31m5.5 MB/s\u001b[0m eta \u001b[36m0:00:00\u001b[0m\n",
            "\u001b[?25hDownloading pyahocorasick-2.1.0-cp310-cp310-manylinux_2_5_x86_64.manylinux1_x86_64.manylinux_2_12_x86_64.manylinux2010_x86_64.whl (110 kB)\n",
            "\u001b[2K   \u001b[90m━━━━━━━━━━━━━━━━━━━━━━━━━━━━━━━━━━━━━━━━\u001b[0m \u001b[32m110.7/110.7 kB\u001b[0m \u001b[31m6.5 MB/s\u001b[0m eta \u001b[36m0:00:00\u001b[0m\n",
            "\u001b[?25hInstalling collected packages: pyahocorasick, anyascii, textsearch, contractions\n",
            "Successfully installed anyascii-0.3.2 contractions-0.1.73 pyahocorasick-2.1.0 textsearch-0.0.24\n"
          ]
        }
      ]
    },
    {
      "cell_type": "code",
      "source": [
        "import contractions\n",
        "text=\"I'm looking forward to seeing you.\"\n",
        "expanded_text=contractions.fix(text)\n",
        "print(\"Expanded Text: \",expanded_text)"
      ],
      "metadata": {
        "colab": {
          "base_uri": "https://localhost:8080/"
        },
        "id": "EayW0c-1uvQn",
        "outputId": "9b267e6e-75a7-44fd-c52f-5fb825fa92f4"
      },
      "execution_count": 41,
      "outputs": [
        {
          "output_type": "stream",
          "name": "stdout",
          "text": [
            "Expanded Text:  I am looking forward to seeing you.\n"
          ]
        }
      ]
    },
    {
      "cell_type": "code",
      "source": [],
      "metadata": {
        "id": "RFwWT0iOu3eG"
      },
      "execution_count": null,
      "outputs": []
    }
  ]
}